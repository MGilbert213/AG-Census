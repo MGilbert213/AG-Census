{
 "cells": [
  {
   "cell_type": "markdown",
   "id": "11f36b89",
   "metadata": {},
   "source": [
    "This notebook is used to update the field names in a feature class for the USDA Census of Agriculture. It read in the feature class and loads it into a Pandas dataframe. It uses string concatenation, regular expressions, and other string manipulation tricks to make the field names more human readable."
   ]
  },
  {
   "cell_type": "code",
   "execution_count": 1,
   "id": "6f0b181e",
   "metadata": {},
   "outputs": [],
   "source": [
    "import pandas as pd\n",
    "import arcpy"
   ]
  },
  {
   "cell_type": "code",
   "execution_count": 2,
   "id": "443d68a1",
   "metadata": {},
   "outputs": [],
   "source": [
    "arcpy.env.overwriteOutput = True"
   ]
  },
  {
   "cell_type": "code",
   "execution_count": 3,
   "id": "18d45756",
   "metadata": {},
   "outputs": [],
   "source": [
    "in_pr_data = r\"C:\\Users\\mark9020\\Documents\\ArcGIS\\Projects\\Ag Census\\Ag Census 2022.gdb\" \\\n",
    "    r\"\\ag_census_2022_county_sel_cmdty_2025R1\""
   ]
  },
  {
   "cell_type": "code",
   "execution_count": 4,
   "id": "3f6ae7b3",
   "metadata": {},
   "outputs": [
    {
     "data": {
      "application/vnd.microsoft.datawrangler.viewer.v0+json": {
       "columns": [
        {
         "name": "index",
         "rawType": "int64",
         "type": "integer"
        },
        {
         "name": "OBJECTID",
         "rawType": "int32",
         "type": "integer"
        },
        {
         "name": "GEOID",
         "rawType": "object",
         "type": "string"
        },
        {
         "name": "Long_Desc",
         "rawType": "object",
         "type": "string"
        },
        {
         "name": "Value_Num",
         "rawType": "float64",
         "type": "float"
        },
        {
         "name": "CV_PCT",
         "rawType": "object",
         "type": "string"
        },
        {
         "name": "Supp_Code",
         "rawType": "object",
         "type": "string"
        }
       ],
       "conversionMethod": "pd.DataFrame",
       "ref": "befddf23-6662-41a3-ac62-fd588bda3a2e",
       "rows": [
        [
         "0",
         "1",
         "72002",
         "CATTLE, COWS - INVENTORY | TOTAL | NOT SPECIFIED",
         "41668.0",
         "4.3",
         "No"
        ],
        [
         "1",
         "2",
         "72002",
         "CATTLE, COWS - OPERATIONS WITH INVENTORY | TOTAL | NOT SPECIFIED",
         "281.0",
         "4.8",
         "No"
        ],
        [
         "2",
         "3",
         "72002",
         "CATTLE, COWS, BEEF - INVENTORY | TOTAL | NOT SPECIFIED",
         "2994.0",
         "5.8",
         "No"
        ],
        [
         "3",
         "4",
         "72002",
         "CATTLE, COWS, BEEF - OPERATIONS WITH INVENTORY | TOTAL | NOT SPECIFIED",
         "95.0",
         "8.7",
         "No"
        ],
        [
         "4",
         "5",
         "72002",
         "CATTLE, COWS, BEEF, HEIFERS & HEIFER CALVES - INVENTORY | TOTAL | NOT SPECIFIED",
         "1613.0",
         "7.3",
         "No"
        ]
       ],
       "shape": {
        "columns": 6,
        "rows": 5
       }
      },
      "text/html": [
       "<div>\n",
       "<style scoped>\n",
       "    .dataframe tbody tr th:only-of-type {\n",
       "        vertical-align: middle;\n",
       "    }\n",
       "\n",
       "    .dataframe tbody tr th {\n",
       "        vertical-align: top;\n",
       "    }\n",
       "\n",
       "    .dataframe thead th {\n",
       "        text-align: right;\n",
       "    }\n",
       "</style>\n",
       "<table border=\"1\" class=\"dataframe\">\n",
       "  <thead>\n",
       "    <tr style=\"text-align: right;\">\n",
       "      <th></th>\n",
       "      <th>OBJECTID</th>\n",
       "      <th>GEOID</th>\n",
       "      <th>Long_Desc</th>\n",
       "      <th>Value_Num</th>\n",
       "      <th>CV_PCT</th>\n",
       "      <th>Supp_Code</th>\n",
       "    </tr>\n",
       "  </thead>\n",
       "  <tbody>\n",
       "    <tr>\n",
       "      <th>0</th>\n",
       "      <td>1</td>\n",
       "      <td>72002</td>\n",
       "      <td>CATTLE, COWS - INVENTORY | TOTAL | NOT SPECIFIED</td>\n",
       "      <td>41668.0</td>\n",
       "      <td>4.3</td>\n",
       "      <td>No</td>\n",
       "    </tr>\n",
       "    <tr>\n",
       "      <th>1</th>\n",
       "      <td>2</td>\n",
       "      <td>72002</td>\n",
       "      <td>CATTLE, COWS - OPERATIONS WITH INVENTORY | TOT...</td>\n",
       "      <td>281.0</td>\n",
       "      <td>4.8</td>\n",
       "      <td>No</td>\n",
       "    </tr>\n",
       "    <tr>\n",
       "      <th>2</th>\n",
       "      <td>3</td>\n",
       "      <td>72002</td>\n",
       "      <td>CATTLE, COWS, BEEF - INVENTORY | TOTAL | NOT S...</td>\n",
       "      <td>2994.0</td>\n",
       "      <td>5.8</td>\n",
       "      <td>No</td>\n",
       "    </tr>\n",
       "    <tr>\n",
       "      <th>3</th>\n",
       "      <td>4</td>\n",
       "      <td>72002</td>\n",
       "      <td>CATTLE, COWS, BEEF - OPERATIONS WITH INVENTORY...</td>\n",
       "      <td>95.0</td>\n",
       "      <td>8.7</td>\n",
       "      <td>No</td>\n",
       "    </tr>\n",
       "    <tr>\n",
       "      <th>4</th>\n",
       "      <td>5</td>\n",
       "      <td>72002</td>\n",
       "      <td>CATTLE, COWS, BEEF, HEIFERS &amp; HEIFER CALVES - ...</td>\n",
       "      <td>1613.0</td>\n",
       "      <td>7.3</td>\n",
       "      <td>No</td>\n",
       "    </tr>\n",
       "  </tbody>\n",
       "</table>\n",
       "</div>"
      ],
      "text/plain": [
       "   OBJECTID  GEOID                                          Long_Desc  \\\n",
       "0         1  72002   CATTLE, COWS - INVENTORY | TOTAL | NOT SPECIFIED   \n",
       "1         2  72002  CATTLE, COWS - OPERATIONS WITH INVENTORY | TOT...   \n",
       "2         3  72002  CATTLE, COWS, BEEF - INVENTORY | TOTAL | NOT S...   \n",
       "3         4  72002  CATTLE, COWS, BEEF - OPERATIONS WITH INVENTORY...   \n",
       "4         5  72002  CATTLE, COWS, BEEF, HEIFERS & HEIFER CALVES - ...   \n",
       "\n",
       "   Value_Num CV_PCT Supp_Code  \n",
       "0    41668.0    4.3        No  \n",
       "1      281.0    4.8        No  \n",
       "2     2994.0    5.8        No  \n",
       "3       95.0    8.7        No  \n",
       "4     1613.0    7.3        No  "
      ]
     },
     "execution_count": 4,
     "metadata": {},
     "output_type": "execute_result"
    }
   ],
   "source": [
    "pr_data = arcpy.da.TableToNumPyArray(in_pr_data, \"*\")\n",
    "pr_data_df = pd.DataFrame(pr_data)\n",
    "pr_data_df.head()"
   ]
  },
  {
   "cell_type": "code",
   "execution_count": 12,
   "id": "40615572",
   "metadata": {},
   "outputs": [],
   "source": [
    "\n",
    "def get_new_name(old_name: str) -> str:\n",
    "    \"\"\"\n",
    "    Function to rename the columns in the DataFrame\n",
    "    :param old_name: The old column name\n",
    "    :return: The new column name\n",
    "    \"\"\"\n",
    "\n",
    "    short_desc, domain_desc, cat_domain_desc = old_name.split(\" | \")\n",
    "    if cat_domain_desc != \"NOT SPECIFIED\":\n",
    "        new_name = f'{short_desc}: {cat_domain_desc}'.title()\n",
    "    else:\n",
    "        new_name = f'{short_desc}: {domain_desc}'.title()\n",
    "\n",
    "    corrected_name = _correct_capitalization(new_name)\n",
    "\n",
    "    return corrected_name\n",
    "\n",
    "def _correct_capitalization(name: str) -> str:\n",
    "    \"\"\"\n",
    "    Function to correct the capitalization of the column names\n",
    "    :param name: The column name\n",
    "    :return: The corrected column name\n",
    "    \"\"\"\n",
    "    import re\n",
    "\n",
    "    patterns = {\n",
    "        \"With\": \"with\",\n",
    "        \"Incl\": \"Incl.\",\n",
    "        \"Excl\": \"Excl.\",\n",
    "        \"Cwt\": \"CWT\",\n",
    "        \"Pto\": \"PTO\",\n",
    "        \" Hp,\": \" HP,\",\n",
    "        \" Hp \": \" HP \",\n",
    "        \" Ge \": \" GE \",\n",
    "        \" Lt \": \" LT \",\n",
    "        \" To \": \" to \",\n",
    "        \" Gt \": \" GT \",\n",
    "        \" Of \": \" of \",\n",
    "        \"Lbs\": \"lbs.\",\n",
    "        \" In \": \" in \",\n",
    "        \" Bu \": \" Bu. \",\n",
    "        \" Bu:\": \" Bu.:\"\n",
    "    }\n",
    "\n",
    "    result = re.sub('|'.join(patterns.keys()), lambda x: patterns[x.group()], name)\n",
    "    return result"
   ]
  },
  {
   "cell_type": "code",
   "execution_count": 13,
   "id": "3594704c",
   "metadata": {},
   "outputs": [],
   "source": [
    "pr_data_df['Field_Name'] = pr_data_df['Long_Desc'].apply(get_new_name)"
   ]
  },
  {
   "cell_type": "code",
   "execution_count": 14,
   "id": "bb150910",
   "metadata": {},
   "outputs": [
    {
     "data": {
      "application/vnd.microsoft.datawrangler.viewer.v0+json": {
       "columns": [
        {
         "name": "index",
         "rawType": "int64",
         "type": "integer"
        },
        {
         "name": "OBJECTID",
         "rawType": "int32",
         "type": "integer"
        },
        {
         "name": "GEOID",
         "rawType": "object",
         "type": "string"
        },
        {
         "name": "Long_Desc",
         "rawType": "object",
         "type": "string"
        },
        {
         "name": "Value_Num",
         "rawType": "float64",
         "type": "float"
        },
        {
         "name": "CV_PCT",
         "rawType": "object",
         "type": "string"
        },
        {
         "name": "Supp_Code",
         "rawType": "object",
         "type": "string"
        },
        {
         "name": "Field_Name",
         "rawType": "object",
         "type": "string"
        }
       ],
       "conversionMethod": "pd.DataFrame",
       "ref": "12b22689-b930-40d6-ba5f-e967febbefdb",
       "rows": [
        [
         "0",
         "1",
         "72002",
         "CATTLE, COWS - INVENTORY | TOTAL | NOT SPECIFIED",
         "41668.0",
         "4.3",
         "No",
         "Cattle, Cows - Inventory: Total"
        ],
        [
         "1",
         "2",
         "72002",
         "CATTLE, COWS - OPERATIONS WITH INVENTORY | TOTAL | NOT SPECIFIED",
         "281.0",
         "4.8",
         "No",
         "Cattle, Cows - Operations with Inventory: Total"
        ],
        [
         "2",
         "3",
         "72002",
         "CATTLE, COWS, BEEF - INVENTORY | TOTAL | NOT SPECIFIED",
         "2994.0",
         "5.8",
         "No",
         "Cattle, Cows, Beef - Inventory: Total"
        ],
        [
         "3",
         "4",
         "72002",
         "CATTLE, COWS, BEEF - OPERATIONS WITH INVENTORY | TOTAL | NOT SPECIFIED",
         "95.0",
         "8.7",
         "No",
         "Cattle, Cows, Beef - Operations with Inventory: Total"
        ],
        [
         "4",
         "5",
         "72002",
         "CATTLE, COWS, BEEF, HEIFERS & HEIFER CALVES - INVENTORY | TOTAL | NOT SPECIFIED",
         "1613.0",
         "7.3",
         "No",
         "Cattle, Cows, Beef, Heifers & Heifer Calves - Inventory: Total"
        ],
        [
         "5",
         "6",
         "72002",
         "CATTLE, COWS, BEEF, HEIFERS & HEIFER CALVES - OPERATIONS WITH INVENTORY | TOTAL | NOT SPECIFIED",
         "80.0",
         "8.4",
         "No",
         "Cattle, Cows, Beef, Heifers & Heifer Calves - Operations with Inventory: Total"
        ],
        [
         "6",
         "7",
         "72002",
         "CATTLE, COWS, BEEF, INCL HEIFERS & HEIFER CALVES - INVENTORY | TOTAL | NOT SPECIFIED",
         "4607.0",
         "5.7",
         "No",
         "Cattle, Cows, Beef, Incl. Heifers & Heifer Calves - Inventory: Total"
        ],
        [
         "7",
         "8",
         "72002",
         "CATTLE, COWS, BEEF, INCL HEIFERS & HEIFER CALVES - OPERATIONS WITH INVENTORY | TOTAL | NOT SPECIFIED",
         "109.0",
         "7.4",
         "No",
         "Cattle, Cows, Beef, Incl. Heifers & Heifer Calves - Operations with Inventory: Total"
        ],
        [
         "8",
         "9",
         "72002",
         "CATTLE, COWS, MILK - INVENTORY | TOTAL | NOT SPECIFIED",
         "38674.0",
         "4.6",
         "No",
         "Cattle, Cows, Milk - Inventory: Total"
        ],
        [
         "9",
         "10",
         "72002",
         "CATTLE, COWS, MILK - OPERATIONS WITH INVENTORY | TOTAL | NOT SPECIFIED",
         "190.0",
         "4.3",
         "No",
         "Cattle, Cows, Milk - Operations with Inventory: Total"
        ],
        [
         "10",
         "11",
         "72002",
         "CATTLE, COWS, MILK, HEIFERS & HEIFER CALVES - INVENTORY | TOTAL | NOT SPECIFIED",
         "25502.0",
         "3.6",
         "No",
         "Cattle, Cows, Milk, Heifers & Heifer Calves - Inventory: Total"
        ],
        [
         "11",
         "12",
         "72002",
         "CATTLE, COWS, MILK, HEIFERS & HEIFER CALVES - OPERATIONS WITH INVENTORY | TOTAL | NOT SPECIFIED",
         "300.0",
         "5.1",
         "No",
         "Cattle, Cows, Milk, Heifers & Heifer Calves - Operations with Inventory: Total"
        ],
        [
         "12",
         "13",
         "72002",
         "CATTLE, COWS, MILK, INCL HEIFERS & HEIFER CALVES - INVENTORY | TOTAL | NOT SPECIFIED",
         "64176.0",
         "3.5",
         "No",
         "Cattle, Cows, Milk, Incl. Heifers & Heifer Calves - Inventory: Total"
        ],
        [
         "13",
         "14",
         "72002",
         "CATTLE, COWS, MILK, INCL HEIFERS & HEIFER CALVES - OPERATIONS WITH INVENTORY | TOTAL | NOT SPECIFIED",
         "318.0",
         "5.0",
         "No",
         "Cattle, Cows, Milk, Incl. Heifers & Heifer Calves - Operations with Inventory: Total"
        ],
        [
         "14",
         "15",
         "72002",
         "CATTLE, HEIFERS & HEIFER CALVES - INVENTORY | TOTAL | NOT SPECIFIED",
         "27115.0",
         "3.7",
         "No",
         "Cattle, Heifers & Heifer Calves - Inventory: Total"
        ],
        [
         "15",
         "16",
         "72002",
         "CATTLE, HEIFERS & HEIFER CALVES - OPERATIONS WITH INVENTORY | TOTAL | NOT SPECIFIED",
         "359.0",
         "5.4",
         "No",
         "Cattle, Heifers & Heifer Calves - Operations with Inventory: Total"
        ],
        [
         "16",
         "17",
         "72002",
         "CATTLE, INCL CALVES - INVENTORY | TOTAL | NOT SPECIFIED",
         "72940.0",
         "3.3",
         "No",
         "Cattle, Incl. Calves - Inventory: Total"
        ],
        [
         "17",
         "18",
         "72002",
         "CATTLE, INCL CALVES - OPERATIONS WITH INVENTORY | TOTAL | NOT SPECIFIED",
         "418.0",
         "5.8",
         "No",
         "Cattle, Incl. Calves - Operations with Inventory: Total"
        ],
        [
         "18",
         "19",
         "72002",
         "CATTLE, INCL CALVES, BULLS & STEERS - INVENTORY | TOTAL | NOT SPECIFIED",
         "4157.0",
         "4.4",
         "No",
         "Cattle, Incl. Calves, Bulls & Steers - Inventory: Total"
        ],
        [
         "19",
         "20",
         "72002",
         "CATTLE, INCL CALVES, BULLS & STEERS - OPERATIONS WITH INVENTORY | TOTAL | NOT SPECIFIED",
         "307.0",
         "5.8",
         "No",
         "Cattle, Incl. Calves, Bulls & Steers - Operations with Inventory: Total"
        ],
        [
         "20",
         "21",
         "72002",
         "CHICKENS - INVENTORY | TOTAL | NOT SPECIFIED",
         "3253.0",
         "45.2",
         "No",
         "Chickens - Inventory: Total"
        ],
        [
         "21",
         "22",
         "72002",
         "CHICKENS - OPERATIONS WITH INVENTORY | TOTAL | NOT SPECIFIED",
         "38.0",
         "25.8",
         "No",
         "Chickens - Operations with Inventory: Total"
        ],
        [
         "22",
         "23",
         "72002",
         "CHICKENS, BROILERS - INVENTORY | TOTAL | NOT SPECIFIED",
         "60.0",
         "44.7",
         "No",
         "Chickens, Broilers - Inventory: Total"
        ],
        [
         "23",
         "24",
         "72002",
         "CHICKENS, BROILERS - OPERATIONS WITH INVENTORY | TOTAL | NOT SPECIFIED",
         "3.0",
         "44.7",
         "No",
         "Chickens, Broilers - Operations with Inventory: Total"
        ],
        [
         "24",
         "25",
         "72002",
         "CHICKENS, HENS, ENGLISH - INVENTORY | TOTAL | NOT SPECIFIED",
         "270.0",
         "78.4",
         "No",
         "Chickens, Hens, English - Inventory: Total"
        ],
        [
         "25",
         "26",
         "72002",
         "CHICKENS, HENS, ENGLISH - OPERATIONS WITH INVENTORY | TOTAL | NOT SPECIFIED",
         "7.0",
         "91.9",
         "No",
         "Chickens, Hens, English - Operations with Inventory: Total"
        ],
        [
         "26",
         "27",
         "72002",
         "CHICKENS, LAYERS - INVENTORY | TOTAL | NOT SPECIFIED",
         "2447.0",
         "46.4",
         "No",
         "Chickens, Layers - Inventory: Total"
        ],
        [
         "27",
         "28",
         "72002",
         "CHICKENS, LAYERS - OPERATIONS WITH INVENTORY | TOTAL | NOT SPECIFIED",
         "29.0",
         "28.7",
         "No",
         "Chickens, Layers - Operations with Inventory: Total"
        ],
        [
         "28",
         "29",
         "72002",
         "CHICKENS, LAYERS, TABLE - INVENTORY | TOTAL | NOT SPECIFIED",
         "2447.0",
         "46.4",
         "No",
         "Chickens, Layers, Table - Inventory: Total"
        ],
        [
         "29",
         "30",
         "72002",
         "CHICKENS, LAYERS, TABLE - OPERATIONS WITH INVENTORY | TOTAL | NOT SPECIFIED",
         "29.0",
         "28.7",
         "No",
         "Chickens, Layers, Table - Operations with Inventory: Total"
        ],
        [
         "30",
         "31",
         "72002",
         "CHICKENS, PULLETS, REPLACEMENT - INVENTORY | TOTAL | NOT SPECIFIED",
         "90.0",
         "77.5",
         "No",
         "Chickens, Pullets, Replacement - Inventory: Total"
        ],
        [
         "31",
         "32",
         "72002",
         "CHICKENS, PULLETS, REPLACEMENT - OPERATIONS WITH INVENTORY | TOTAL | NOT SPECIFIED",
         "3.0",
         "77.5",
         "No",
         "Chickens, Pullets, Replacement - Operations with Inventory: Total"
        ],
        [
         "32",
         "33",
         "72002",
         "CHICKENS, YARD - INVENTORY | TOTAL | NOT SPECIFIED",
         "386.0",
         "37.5",
         "No",
         "Chickens, Yard - Inventory: Total"
        ],
        [
         "33",
         "34",
         "72002",
         "CHICKENS, YARD - OPERATIONS WITH INVENTORY | TOTAL | NOT SPECIFIED",
         "17.0",
         "41.4",
         "No",
         "Chickens, Yard - Operations with Inventory: Total"
        ],
        [
         "34",
         "35",
         "72005",
         "CATTLE, COWS - INVENTORY | TOTAL | NOT SPECIFIED",
         "26985.0",
         "8.8",
         "No",
         "Cattle, Cows - Inventory: Total"
        ],
        [
         "35",
         "36",
         "72005",
         "CATTLE, COWS - OPERATIONS WITH INVENTORY | TOTAL | NOT SPECIFIED",
         "318.0",
         "7.3",
         "No",
         "Cattle, Cows - Operations with Inventory: Total"
        ],
        [
         "36",
         "37",
         "72005",
         "CATTLE, COWS, BEEF - INVENTORY | TOTAL | NOT SPECIFIED",
         "21022.0",
         "8.6",
         "No",
         "Cattle, Cows, Beef - Inventory: Total"
        ],
        [
         "37",
         "38",
         "72005",
         "CATTLE, COWS, BEEF - OPERATIONS WITH INVENTORY | TOTAL | NOT SPECIFIED",
         "266.0",
         "8.2",
         "No",
         "Cattle, Cows, Beef - Operations with Inventory: Total"
        ],
        [
         "38",
         "39",
         "72005",
         "CATTLE, COWS, BEEF, HEIFERS & HEIFER CALVES - INVENTORY | TOTAL | NOT SPECIFIED",
         "8419.0",
         "10.7",
         "No",
         "Cattle, Cows, Beef, Heifers & Heifer Calves - Inventory: Total"
        ],
        [
         "39",
         "40",
         "72005",
         "CATTLE, COWS, BEEF, HEIFERS & HEIFER CALVES - OPERATIONS WITH INVENTORY | TOTAL | NOT SPECIFIED",
         "230.0",
         "8.5",
         "No",
         "Cattle, Cows, Beef, Heifers & Heifer Calves - Operations with Inventory: Total"
        ],
        [
         "40",
         "41",
         "72005",
         "CATTLE, COWS, BEEF, INCL HEIFERS & HEIFER CALVES - INVENTORY | TOTAL | NOT SPECIFIED",
         "29441.0",
         "9.2",
         "No",
         "Cattle, Cows, Beef, Incl. Heifers & Heifer Calves - Inventory: Total"
        ],
        [
         "41",
         "42",
         "72005",
         "CATTLE, COWS, BEEF, INCL HEIFERS & HEIFER CALVES - OPERATIONS WITH INVENTORY | TOTAL | NOT SPECIFIED",
         "279.0",
         "7.9",
         "No",
         "Cattle, Cows, Beef, Incl. Heifers & Heifer Calves - Operations with Inventory: Total"
        ],
        [
         "42",
         "43",
         "72005",
         "CATTLE, COWS, MILK - INVENTORY | TOTAL | NOT SPECIFIED",
         "5963.0",
         "17.3",
         "No",
         "Cattle, Cows, Milk - Inventory: Total"
        ],
        [
         "43",
         "44",
         "72005",
         "CATTLE, COWS, MILK - OPERATIONS WITH INVENTORY | TOTAL | NOT SPECIFIED",
         "64.0",
         "17.8",
         "No",
         "Cattle, Cows, Milk - Operations with Inventory: Total"
        ],
        [
         "44",
         "45",
         "72005",
         "CATTLE, COWS, MILK, HEIFERS & HEIFER CALVES - INVENTORY | TOTAL | NOT SPECIFIED",
         "3935.0",
         "14.6",
         "No",
         "Cattle, Cows, Milk, Heifers & Heifer Calves - Inventory: Total"
        ],
        [
         "45",
         "46",
         "72005",
         "CATTLE, COWS, MILK, HEIFERS & HEIFER CALVES - OPERATIONS WITH INVENTORY | TOTAL | NOT SPECIFIED",
         "54.0",
         "25.6",
         "No",
         "Cattle, Cows, Milk, Heifers & Heifer Calves - Operations with Inventory: Total"
        ],
        [
         "46",
         "47",
         "72005",
         "CATTLE, COWS, MILK, INCL HEIFERS & HEIFER CALVES - INVENTORY | TOTAL | NOT SPECIFIED",
         "9898.0",
         "16.1",
         "No",
         "Cattle, Cows, Milk, Incl. Heifers & Heifer Calves - Inventory: Total"
        ],
        [
         "47",
         "48",
         "72005",
         "CATTLE, COWS, MILK, INCL HEIFERS & HEIFER CALVES - OPERATIONS WITH INVENTORY | TOTAL | NOT SPECIFIED",
         "66.0",
         "17.9",
         "No",
         "Cattle, Cows, Milk, Incl. Heifers & Heifer Calves - Operations with Inventory: Total"
        ],
        [
         "48",
         "49",
         "72005",
         "CATTLE, HEIFERS & HEIFER CALVES - INVENTORY | TOTAL | NOT SPECIFIED",
         "12354.0",
         "10.4",
         "No",
         "Cattle, Heifers & Heifer Calves - Inventory: Total"
        ],
        [
         "49",
         "50",
         "72005",
         "CATTLE, HEIFERS & HEIFER CALVES - OPERATIONS WITH INVENTORY | TOTAL | NOT SPECIFIED",
         "278.0",
         "8.2",
         "No",
         "Cattle, Heifers & Heifer Calves - Operations with Inventory: Total"
        ]
       ],
       "shape": {
        "columns": 7,
        "rows": 1368738
       }
      },
      "text/html": [
       "<div>\n",
       "<style scoped>\n",
       "    .dataframe tbody tr th:only-of-type {\n",
       "        vertical-align: middle;\n",
       "    }\n",
       "\n",
       "    .dataframe tbody tr th {\n",
       "        vertical-align: top;\n",
       "    }\n",
       "\n",
       "    .dataframe thead th {\n",
       "        text-align: right;\n",
       "    }\n",
       "</style>\n",
       "<table border=\"1\" class=\"dataframe\">\n",
       "  <thead>\n",
       "    <tr style=\"text-align: right;\">\n",
       "      <th></th>\n",
       "      <th>OBJECTID</th>\n",
       "      <th>GEOID</th>\n",
       "      <th>Long_Desc</th>\n",
       "      <th>Value_Num</th>\n",
       "      <th>CV_PCT</th>\n",
       "      <th>Supp_Code</th>\n",
       "      <th>Field_Name</th>\n",
       "    </tr>\n",
       "  </thead>\n",
       "  <tbody>\n",
       "    <tr>\n",
       "      <th>0</th>\n",
       "      <td>1</td>\n",
       "      <td>72002</td>\n",
       "      <td>CATTLE, COWS - INVENTORY | TOTAL | NOT SPECIFIED</td>\n",
       "      <td>41668.0</td>\n",
       "      <td>4.3</td>\n",
       "      <td>No</td>\n",
       "      <td>Cattle, Cows - Inventory: Total</td>\n",
       "    </tr>\n",
       "    <tr>\n",
       "      <th>1</th>\n",
       "      <td>2</td>\n",
       "      <td>72002</td>\n",
       "      <td>CATTLE, COWS - OPERATIONS WITH INVENTORY | TOTAL | NOT SPECIFIED</td>\n",
       "      <td>281.0</td>\n",
       "      <td>4.8</td>\n",
       "      <td>No</td>\n",
       "      <td>Cattle, Cows - Operations with Inventory: Total</td>\n",
       "    </tr>\n",
       "    <tr>\n",
       "      <th>2</th>\n",
       "      <td>3</td>\n",
       "      <td>72002</td>\n",
       "      <td>CATTLE, COWS, BEEF - INVENTORY | TOTAL | NOT SPECIFIED</td>\n",
       "      <td>2994.0</td>\n",
       "      <td>5.8</td>\n",
       "      <td>No</td>\n",
       "      <td>Cattle, Cows, Beef - Inventory: Total</td>\n",
       "    </tr>\n",
       "    <tr>\n",
       "      <th>3</th>\n",
       "      <td>4</td>\n",
       "      <td>72002</td>\n",
       "      <td>CATTLE, COWS, BEEF - OPERATIONS WITH INVENTORY | TOTAL | NOT SPECIFIED</td>\n",
       "      <td>95.0</td>\n",
       "      <td>8.7</td>\n",
       "      <td>No</td>\n",
       "      <td>Cattle, Cows, Beef - Operations with Inventory: Total</td>\n",
       "    </tr>\n",
       "    <tr>\n",
       "      <th>4</th>\n",
       "      <td>5</td>\n",
       "      <td>72002</td>\n",
       "      <td>CATTLE, COWS, BEEF, HEIFERS &amp; HEIFER CALVES - INVENTORY | TOTAL | NOT SPECIFIED</td>\n",
       "      <td>1613.0</td>\n",
       "      <td>7.3</td>\n",
       "      <td>No</td>\n",
       "      <td>Cattle, Cows, Beef, Heifers &amp; Heifer Calves - Inventory: Total</td>\n",
       "    </tr>\n",
       "    <tr>\n",
       "      <th>...</th>\n",
       "      <td>...</td>\n",
       "      <td>...</td>\n",
       "      <td>...</td>\n",
       "      <td>...</td>\n",
       "      <td>...</td>\n",
       "      <td>...</td>\n",
       "      <td>...</td>\n",
       "    </tr>\n",
       "    <tr>\n",
       "      <th>1368733</th>\n",
       "      <td>1368734</td>\n",
       "      <td>48279</td>\n",
       "      <td>CATTLE, ON FEED - OPERATIONS WITH INVENTORY | TOTAL | NOT SPECIFIED</td>\n",
       "      <td>2.0</td>\n",
       "      <td>(L)</td>\n",
       "      <td>No</td>\n",
       "      <td>Cattle, On Feed - Operations with Inventory: Total</td>\n",
       "    </tr>\n",
       "    <tr>\n",
       "      <th>1368734</th>\n",
       "      <td>1368735</td>\n",
       "      <td>27163</td>\n",
       "      <td>CATTLE, ON FEED - OPERATIONS WITH SALES FOR SLAUGHTER | SALES OF CATTLE ON FEED | SALES OF CATTLE ON FEED: (100 TO 199 HEAD)</td>\n",
       "      <td>2.0</td>\n",
       "      <td>(L)</td>\n",
       "      <td>No</td>\n",
       "      <td>Cattle, On Feed - Operations with Sales For Slaughter: Sales of Cattle On Feed: (100 to 199 Head)</td>\n",
       "    </tr>\n",
       "    <tr>\n",
       "      <th>1368735</th>\n",
       "      <td>1368736</td>\n",
       "      <td>33013</td>\n",
       "      <td>CATTLE, GE 500 LBS - SALES, MEASURED IN HEAD | TOTAL | NOT SPECIFIED</td>\n",
       "      <td>831.0</td>\n",
       "      <td>(L)</td>\n",
       "      <td>No</td>\n",
       "      <td>Cattle, GE 500 lbs. - Sales, Measured in Head: Total</td>\n",
       "    </tr>\n",
       "    <tr>\n",
       "      <th>1368736</th>\n",
       "      <td>1368737</td>\n",
       "      <td>18039</td>\n",
       "      <td>CORN, SILAGE - OPERATIONS WITH AREA HARVESTED | AREA HARVESTED | AREA HARVESTED: (250 TO 499 ACRES)</td>\n",
       "      <td>5.0</td>\n",
       "      <td>52.4</td>\n",
       "      <td>No</td>\n",
       "      <td>Corn, Silage - Operations with Area Harvested: Area Harvested: (250 to 499 Acres)</td>\n",
       "    </tr>\n",
       "    <tr>\n",
       "      <th>1368737</th>\n",
       "      <td>1368738</td>\n",
       "      <td>36039</td>\n",
       "      <td>CATTLE, COWS, MILK - OPERATIONS WITH INVENTORY | INVENTORY OF MILK COWS | INVENTORY OF MILK COWS: (1 TO 9 HEAD)</td>\n",
       "      <td>1.0</td>\n",
       "      <td>(L)</td>\n",
       "      <td>No</td>\n",
       "      <td>Cattle, Cows, Milk - Operations with Inventory: Inventory of Milk Cows: (1 to 9 Head)</td>\n",
       "    </tr>\n",
       "  </tbody>\n",
       "</table>\n",
       "<p>1368738 rows × 7 columns</p>\n",
       "</div>"
      ],
      "text/plain": [
       "         OBJECTID  GEOID  \\\n",
       "0               1  72002   \n",
       "1               2  72002   \n",
       "2               3  72002   \n",
       "3               4  72002   \n",
       "4               5  72002   \n",
       "...           ...    ...   \n",
       "1368733   1368734  48279   \n",
       "1368734   1368735  27163   \n",
       "1368735   1368736  33013   \n",
       "1368736   1368737  18039   \n",
       "1368737   1368738  36039   \n",
       "\n",
       "                                                                                                                            Long_Desc  \\\n",
       "0                                                                                    CATTLE, COWS - INVENTORY | TOTAL | NOT SPECIFIED   \n",
       "1                                                                    CATTLE, COWS - OPERATIONS WITH INVENTORY | TOTAL | NOT SPECIFIED   \n",
       "2                                                                              CATTLE, COWS, BEEF - INVENTORY | TOTAL | NOT SPECIFIED   \n",
       "3                                                              CATTLE, COWS, BEEF - OPERATIONS WITH INVENTORY | TOTAL | NOT SPECIFIED   \n",
       "4                                                     CATTLE, COWS, BEEF, HEIFERS & HEIFER CALVES - INVENTORY | TOTAL | NOT SPECIFIED   \n",
       "...                                                                                                                               ...   \n",
       "1368733                                                           CATTLE, ON FEED - OPERATIONS WITH INVENTORY | TOTAL | NOT SPECIFIED   \n",
       "1368734  CATTLE, ON FEED - OPERATIONS WITH SALES FOR SLAUGHTER | SALES OF CATTLE ON FEED | SALES OF CATTLE ON FEED: (100 TO 199 HEAD)   \n",
       "1368735                                                          CATTLE, GE 500 LBS - SALES, MEASURED IN HEAD | TOTAL | NOT SPECIFIED   \n",
       "1368736                           CORN, SILAGE - OPERATIONS WITH AREA HARVESTED | AREA HARVESTED | AREA HARVESTED: (250 TO 499 ACRES)   \n",
       "1368737               CATTLE, COWS, MILK - OPERATIONS WITH INVENTORY | INVENTORY OF MILK COWS | INVENTORY OF MILK COWS: (1 TO 9 HEAD)   \n",
       "\n",
       "         Value_Num CV_PCT Supp_Code  \\\n",
       "0          41668.0    4.3        No   \n",
       "1            281.0    4.8        No   \n",
       "2           2994.0    5.8        No   \n",
       "3             95.0    8.7        No   \n",
       "4           1613.0    7.3        No   \n",
       "...            ...    ...       ...   \n",
       "1368733        2.0    (L)        No   \n",
       "1368734        2.0    (L)        No   \n",
       "1368735      831.0    (L)        No   \n",
       "1368736        5.0   52.4        No   \n",
       "1368737        1.0    (L)        No   \n",
       "\n",
       "                                                                                                Field_Name  \n",
       "0                                                                          Cattle, Cows - Inventory: Total  \n",
       "1                                                          Cattle, Cows - Operations with Inventory: Total  \n",
       "2                                                                    Cattle, Cows, Beef - Inventory: Total  \n",
       "3                                                    Cattle, Cows, Beef - Operations with Inventory: Total  \n",
       "4                                           Cattle, Cows, Beef, Heifers & Heifer Calves - Inventory: Total  \n",
       "...                                                                                                    ...  \n",
       "1368733                                                 Cattle, On Feed - Operations with Inventory: Total  \n",
       "1368734  Cattle, On Feed - Operations with Sales For Slaughter: Sales of Cattle On Feed: (100 to 199 Head)  \n",
       "1368735                                               Cattle, GE 500 lbs. - Sales, Measured in Head: Total  \n",
       "1368736                  Corn, Silage - Operations with Area Harvested: Area Harvested: (250 to 499 Acres)  \n",
       "1368737              Cattle, Cows, Milk - Operations with Inventory: Inventory of Milk Cows: (1 to 9 Head)  \n",
       "\n",
       "[1368738 rows x 7 columns]"
      ]
     },
     "execution_count": 14,
     "metadata": {},
     "output_type": "execute_result"
    }
   ],
   "source": [
    "pd.set_option('display.max_colwidth', None)\n",
    "pr_data_df"
   ]
  },
  {
   "cell_type": "code",
   "execution_count": 15,
   "id": "72f9e422",
   "metadata": {},
   "outputs": [],
   "source": [
    "# Puerto Rico data format\n",
    "#\n",
    "# p_data_df_trunc = pr_data_df[\n",
    "#     ['Program',\n",
    "#      'Region',\n",
    "#      'CV____',\n",
    "#      'Supp_Code',\n",
    "#      'Value_Num',\n",
    "#      'Long_Desc',\n",
    "#      'Municipality',\n",
    "#      'Region_New',\n",
    "#      'GEOID',\n",
    "#      'Field_Name']\n",
    "#      ]\n",
    "\n",
    "# pr_dtypes={\n",
    "#     'Program': 'S255',\n",
    "#     'Region': 'S255',\n",
    "#     'CV____': 'S10',\n",
    "#     'Supp_Code': 'S3',\n",
    "#     'Value_Num': '<f8',\n",
    "#     'Long_Desc': 'S512',\n",
    "#     'Municipality': 'S255',\n",
    "#     'Region_New': 'S255',\n",
    "#     'GEOID': 'S255',\n",
    "#     'Field_Name': 'S512'\n",
    "# }\n",
    "\n",
    "# USA data format\n",
    "#\n",
    "p_data_df_trunc = pr_data_df[\n",
    "    ['GEOID',\n",
    "     'Field_Name',\n",
    "     'Value_Num',\n",
    "     'CV_PCT',\n",
    "     'Supp_Code',\n",
    "     'Long_Desc'\n",
    "     ]\n",
    "]\n",
    "\n",
    "pr_dtypes={\n",
    "    'CV_PCT': 'S10',\n",
    "    'Supp_Code': 'S3',\n",
    "    'Value_Num': '<f8',\n",
    "    'Long_Desc': 'S512',\n",
    "    'GEOID': 'S255',\n",
    "    'Field_Name': 'S512'\n",
    "}\n"
   ]
  },
  {
   "cell_type": "code",
   "execution_count": 16,
   "id": "9398263c",
   "metadata": {},
   "outputs": [
    {
     "data": {
      "text/plain": [
       "rec.array([(b'72002', b'Cattle, Cows - Inventory: Total', 4.1668e+04, b'4.3', b'No', b'CATTLE, COWS - INVENTORY | TOTAL | NOT SPECIFIED'),\n",
       "           (b'72002', b'Cattle, Cows - Operations with Inventory: Total', 2.8100e+02, b'4.8', b'No', b'CATTLE, COWS - OPERATIONS WITH INVENTORY | TOTAL | NOT SPECIFIED'),\n",
       "           (b'72002', b'Cattle, Cows, Beef - Inventory: Total', 2.9940e+03, b'5.8', b'No', b'CATTLE, COWS, BEEF - INVENTORY | TOTAL | NOT SPECIFIED'),\n",
       "           ...,\n",
       "           (b'33013', b'Cattle, GE 500 lbs. - Sales, Measured in Head: Total', 8.3100e+02, b'(L)', b'No', b'CATTLE, GE 500 LBS - SALES, MEASURED IN HEAD | TOTAL | NOT SPECIFIED'),\n",
       "           (b'18039', b'Corn, Silage - Operations with Area Harvested: Area Harvested: (250 to 499 Acres)', 5.0000e+00, b'52.4', b'No', b'CORN, SILAGE - OPERATIONS WITH AREA HARVESTED | AREA HARVESTED | AREA HARVESTED: (250 TO 499 ACRES)'),\n",
       "           (b'36039', b'Cattle, Cows, Milk - Operations with Inventory: Inventory of Milk Cows: (1 to 9 Head)', 1.0000e+00, b'(L)', b'No', b'CATTLE, COWS, MILK - OPERATIONS WITH INVENTORY | INVENTORY OF MILK COWS | INVENTORY OF MILK COWS: (1 TO 9 HEAD)')],\n",
       "          dtype=[('GEOID', 'S255'), ('Field_Name', 'S512'), ('Value_Num', '<f8'), ('CV_PCT', 'S10'), ('Supp_Code', 'S3'), ('Long_Desc', 'S512')])"
      ]
     },
     "execution_count": 16,
     "metadata": {},
     "output_type": "execute_result"
    }
   ],
   "source": [
    "np_pr_data = p_data_df_trunc.to_records(index=False, column_dtypes=pr_dtypes)\n",
    "np_pr_data"
   ]
  },
  {
   "cell_type": "code",
   "execution_count": 17,
   "id": "953ba7f2",
   "metadata": {},
   "outputs": [],
   "source": [
    "arcpy.da.NumPyArrayToTable(np_pr_data,\n",
    "                           r\"C:\\Users\\mark9020\\Documents\\ArcGIS\\Projects\\Ag Census\\Ag Census 2022.gdb\" \\\n",
    "                            r\"\\ag_census_2022_county_sel_cmdty_2025R1_field_names\"\n",
    "                            )"
   ]
  },
  {
   "cell_type": "code",
   "execution_count": null,
   "id": "c69195a3",
   "metadata": {},
   "outputs": [],
   "source": []
  }
 ],
 "metadata": {
  "kernelspec": {
   "display_name": "Python 3",
   "language": "python",
   "name": "python3"
  },
  "language_info": {
   "codemirror_mode": {
    "name": "ipython",
    "version": 3
   },
   "file_extension": ".py",
   "mimetype": "text/x-python",
   "name": "python",
   "nbconvert_exporter": "python",
   "pygments_lexer": "ipython3",
   "version": "3.11.10"
  }
 },
 "nbformat": 4,
 "nbformat_minor": 5
}
