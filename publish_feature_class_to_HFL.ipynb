{
 "cells": [
  {
   "cell_type": "markdown",
   "id": "072ff2b5",
   "metadata": {},
   "source": [
    "# Prepare & Publish FC as HFS"
   ]
  },
  {
   "cell_type": "markdown",
   "id": "a0b65c29",
   "metadata": {},
   "source": [
    "This notebook prepares and publishes a feature class to ArcGIS Online as a hosted feature service. It ZIPs a file geodatabase containing a single feature class, uploads the zipped file to AGOL, and publishes it as a hosted feature layer. Once published, the hosted feature layer properties are updated.\n",
    "\n",
    "TODO: Don't forget to update the path to the feature class, FGDB item name, and published service properties before running."
   ]
  },
  {
   "cell_type": "markdown",
   "id": "f125121f",
   "metadata": {},
   "source": [
    "### Imports"
   ]
  },
  {
   "cell_type": "code",
   "execution_count": 1,
   "id": "35a94f11",
   "metadata": {},
   "outputs": [],
   "source": [
    "import arcpy\n",
    "import arcgis\n",
    "from arcgis.gis import GIS\n",
    "from arcgis.features import FeatureLayerCollection\n",
    "import zipfile\n",
    "import os"
   ]
  },
  {
   "cell_type": "markdown",
   "id": "9db9c9fe",
   "metadata": {},
   "source": [
    "### Set Environment & Set Constants"
   ]
  },
  {
   "cell_type": "code",
   "execution_count": 2,
   "id": "14a85547",
   "metadata": {
    "tags": []
   },
   "outputs": [],
   "source": [
    "arcpy.env.overwriteOutput = True\n",
    "arcpy.env.addOutputsToMap = False\n",
    "\n",
    "#TODO: Update path to feature class\n",
    "#\n",
    "IN_FEATURE_CLASS = r\"C:\\Users\\mark9020\\Documents\\ArcGIS\\Projects\\Ag Census\\AG_Census_Published.gdb\" \\\n",
    "                    r\"\\USDA_Census_of_Agriculture_2022\"\n",
    "\n",
    "STAGING_FGDB = r\"C:\\Users\\mark9020\\Downloads\\Staging_for_Upload.gdb\"\n",
    "STAGING_NAME = \"USDA_Census_of_Agriculture_2022\"\n",
    "\n",
    "# TODO: Update name of zipped file to refelct the next sequential release\n",
    "#\n",
    "ZIP_PATH = r\"C:\\Users\\mark9020\\Downloads\"\n",
    "ZIP_FGDB_NAME = \"USDA Census of Agriculture 2022 2025R1\""
   ]
  },
  {
   "cell_type": "markdown",
   "id": "1c00b401",
   "metadata": {},
   "source": [
    "### Main"
   ]
  },
  {
   "cell_type": "code",
   "execution_count": 3,
   "id": "d00e9732",
   "metadata": {
    "scrolled": true
   },
   "outputs": [
    {
     "name": "stdout",
     "output_type": "stream",
     "text": [
      "Feature class copied to staging FGDB.\n"
     ]
    }
   ],
   "source": [
    "# Copy the feature class to the staging location\n",
    "#\n",
    "staging_fc = os.path.join(STAGING_FGDB, STAGING_NAME)\n",
    "\n",
    "if not arcpy.Exists(STAGING_FGDB):\n",
    "    arcpy.management.CreateFileGDB(os.path.dirname(STAGING_FGDB), os.path.basename(STAGING_FGDB))\n",
    "    \n",
    "export_fc = arcpy.conversion.ExportFeatures(IN_FEATURE_CLASS, staging_fc)[0]\n",
    "\n",
    "# As of Pro 3.3, adding the clear cache function to address a schema lock not being\n",
    "# released after the create FGDB. Appears to be an issue previously resolved and reintroduced\n",
    "# since I have found several references to this error at Esri Community\n",
    "# https://community.esri.com/t5/python-questions/upgraded-to-arcgis-pro-2-6-arcpy-createfilegdb/m-p/189915\n",
    "# and BUG-000133976\n",
    "#\n",
    "arcpy.management.ClearWorkspaceCache()\n",
    "\n",
    "print(\"Feature class copied to staging FGDB.\")"
   ]
  },
  {
   "cell_type": "code",
   "execution_count": 4,
   "id": "e30948e2",
   "metadata": {},
   "outputs": [
    {
     "name": "stdout",
     "output_type": "stream",
     "text": [
      "FGDB zipped.\n"
     ]
    }
   ],
   "source": [
    "# Zip up the file geodatabase\n",
    "#\n",
    "\n",
    "# zip_name = STAGING_FGDB[:-4] + \".zip\"\n",
    "zip_name = os.path.join(ZIP_PATH, ZIP_FGDB_NAME + \".zip\")\n",
    "\n",
    "with zipfile.ZipFile(zip_name, 'w') as zip_ref:\n",
    "    for folder_name, subfolders, filenames in os.walk(STAGING_FGDB):\n",
    "        for filename in filenames:\n",
    "            file_path = os.path.join(folder_name, filename)\n",
    "            zip_ref.write(file_path, os.path.relpath(file_path, r\"C:\\Users\\mark9020\\Downloads\"))\n",
    "\n",
    "zip_ref.close()\n",
    "print(\"FGDB zipped.\")"
   ]
  },
  {
   "cell_type": "code",
   "execution_count": 5,
   "id": "d29247d3",
   "metadata": {},
   "outputs": [
    {
     "name": "stdout",
     "output_type": "stream",
     "text": [
      "Successfully logged in as: esri_environment\n"
     ]
    }
   ],
   "source": [
    "# Log into ArcGIS Online\n",
    "# This command uses a previously saved local profile to connect to the GIS.\n",
    "# See https://developers.arcgis.com/python/guide/working-with-different-authentication-schemes/ for additional details\n",
    "#\n",
    "# Create a profile so I don't have to enter credentials after the first time\n",
    "#\n",
    "# dest_org = GIS(\"https://arcgis.com\", username=\"esri_environment\", password= \"\", profile=\"esri_environment\")\n",
    "# print(\"Successfully logged in as: \" + dest_org.properties.user.username)\n",
    "\n",
    "dest_org = GIS(r\"https://arcgis.com\", profile=\"esri_environment\")\n",
    "print(\"Successfully logged in as: \" + dest_org.properties.user.username)"
   ]
  },
  {
   "cell_type": "code",
   "execution_count": 6,
   "id": "2e188e2e",
   "metadata": {},
   "outputs": [
    {
     "name": "stdout",
     "output_type": "stream",
     "text": [
      "File uploaded\n",
      "CPU times: total: 891 ms\n",
      "Wall time: 40.9 s\n"
     ]
    }
   ],
   "source": [
    "%%time\n",
    "# Must be the first command in the cell\n",
    "\n",
    "# Define File Geodatabase/Feature Layer Properties\n",
    "#\n",
    "# TODO: Update FGDB item name\n",
    "fgdb_new_properties = {\n",
    "    'type': 'File Geodatabase',\n",
    "    'title': ZIP_FGDB_NAME,    \n",
    "}\n",
    "\n",
    "# Get the destination folder for the zipped file geodatabase\n",
    "census_folder = dest_org.content.folders.get(\"AG Census\")\n",
    "\n",
    "# Upload zipped file geodatabase to a folder in AGOL\n",
    "#\n",
    "add_job = census_folder.add(item_properties=fgdb_new_properties, file=zip_name)\n",
    "\n",
    "if not add_job.done():\n",
    "    print(\"...job precessing...\")\n",
    "else:\n",
    "    new_uploaded_item = add_job.result()\n",
    "\n",
    "print(\"File uploaded\")"
   ]
  },
  {
   "cell_type": "code",
   "execution_count": 7,
   "id": "c0393930",
   "metadata": {},
   "outputs": [
    {
     "name": "stdout",
     "output_type": "stream",
     "text": [
      "Service published.\n",
      "CPU times: total: 484 ms\n",
      "Wall time: 2min 29s\n"
     ]
    }
   ],
   "source": [
    "%%time\n",
    "\n",
    "# Publish the hosted feature service from the file geodatabase\n",
    "#\n",
    "published_fl = new_uploaded_item.publish()\n",
    "print(\"Service published.\")\n",
    "# published_fl"
   ]
  },
  {
   "cell_type": "code",
   "execution_count": 8,
   "id": "efe1310f",
   "metadata": {},
   "outputs": [
    {
     "name": "stdout",
     "output_type": "stream",
     "text": [
      "Delete protection: True\n"
     ]
    }
   ],
   "source": [
    "# Update the properties of the new service.\n",
    "#\n",
    "# TODO: Update published service properties\n",
    "update_prop_dict= {\n",
    "    'title': ZIP_FGDB_NAME + \"_DO NOT DELETE\",    \n",
    "    'snippet': 'This layer contains county polygons used in reporting ' \\\n",
    "    'the 2022 Census of Agriculture from the U.S. Department of Agriculture National ' \\\n",
    "    'Agriculture Statistics Service. The features are United States County Boundaries circa 2022 including total population.',\n",
    "    'description': '<div><b><font color=\"#ff0000\">Important</font></b>: This hosted feature layer supports the following ' \\\n",
    "    'layer views, DO NOT DELETE!<br /></div><div><br /></div>' \\\n",
    "    '<ul><li>USDA Census of Agriculture 2022 - Almond Production<br /></li>' \\\n",
    "    '<li>USDA Census of Agriculture 2022 - Animal Totals<br /></li>' \\\n",
    "    '<li>USDA Census of Agriculture 2022 - Barley Production<br /></li>' \\\n",
    "    '<li>USDA Census of Agriculture 2022 - Cattle Production<br /></li>' \\\n",
    "    '<li>USDA Census of Agriculture 2022 - Chicken Production<br /></li>' \\\n",
    "    '<li>USDA Census of Agriculture 2022 - Corn Production<br /></li>' \\\n",
    "    '<li>USDA Census of Agriculture 2022 - Cotton Production<br /></li>' \\\n",
    "    '<li>USDA Census of Agriculture 2022 - Crop Totals<br /></li>' \\\n",
    "    '<li>USDA Census of Agriculture 2022 - Farm Operations<br /></li>' \\\n",
    "    '<li>USDA Census of Agriculture 2022 - Government Programs<br /></li> ' \\\n",
    "    '<li>USDA Census of Agriculture 2022 - Grain Production<br /></li>' \\\n",
    "    '<li>USDA Census of Agriculture 2022 - Grape Production<br /></li>' \\\n",
    "    '<li>USDA Census of Agriculture 2022 - Hay Production<br /></li>' \\\n",
    "    '<li>USDA Census of Agriculture 2022 - Hog Production<br /></li>' \\\n",
    "    '<li>USDA Census of Agriculture 2022 - Labor<br /></li>' \\\n",
    "    '<li>USDA Census of Agriculture 2022 - Machinery Totals<br /></li>' \\\n",
    "    '<li>USDA Census of Agriculture 2022 - Milk Production<br /></li>' \\\n",
    "    '<li>USDA Census of Agriculture 2022 - Producers<br /></li>' \\\n",
    "    '<li>USDA Census of Agriculture 2022 - Rice Production<br /></li>' \\\n",
    "    '<li>USDA Census of Agriculture 2022 - Sorghum Production<br /></li>' \\\n",
    "    '<li>USDA Census of Agriculture 2022 - Soybean Production<br /></li>' \\\n",
    "    '<li>USDA Census of Agriculture 2022 - Tractors<br /></li>' \\\n",
    "    '<li>USDA Census of Agriculture 2022 - Trucks<br /></li>' \\\n",
    "    '<li>USDA Census of Agriculture 2022 - Turkey Production<br /></li>' \\\n",
    "    '<li>USDA Census of Agriculture 2022 - Wheat Production</li></ul>',\n",
    "    \n",
    "    'licenseInfo': 'This item is <b>not shared</b> but <b>has dependent layers (views) that are shared with the ' \\\n",
    "    'public</b> and may be part of the Living Atlas.',\n",
    "    \n",
    "    'tags': 'agriculture, census, county, USDA, 2022, animal totals, livestock, poltury, crop totals, field crops, ' \\\n",
    "    'expenses, income, fruit, tree nuts, farm, land, assets, farm operations, producers',\n",
    "    \n",
    "    'accessInformation': 'Esri, US Census Bureau, US Department of Agriculture'\n",
    "}\n",
    "\n",
    "published_fl.update(\n",
    "    item_properties=update_prop_dict,\n",
    "    thumbnail=r'C:\\Users\\mark9020\\OneDrive - Esri\\Pictures\\LAW Thumbnails\\supportiveservice.png'\n",
    ")\n",
    "\n",
    "protect_res = published_fl.protect(enable=True)\n",
    "print(f\"Delete protection: {protect_res['success']}\")"
   ]
  },
  {
   "cell_type": "code",
   "execution_count": null,
   "id": "38403fb1",
   "metadata": {},
   "outputs": [],
   "source": []
  }
 ],
 "metadata": {
  "kernelspec": {
   "display_name": "Python 3",
   "language": "python",
   "name": "python3"
  },
  "language_info": {
   "codemirror_mode": {
    "name": "ipython",
    "version": 3
   },
   "file_extension": ".py",
   "mimetype": "text/x-python",
   "name": "python",
   "nbconvert_exporter": "python",
   "pygments_lexer": "ipython3",
   "version": "3.11.10"
  }
 },
 "nbformat": 4,
 "nbformat_minor": 5
}
